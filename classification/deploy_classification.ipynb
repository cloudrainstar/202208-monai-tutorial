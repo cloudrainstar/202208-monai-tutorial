{
 "cells": [
  {
   "cell_type": "markdown",
   "id": "8ad85990",
   "metadata": {},
   "source": [
    "# MONAI Deploy pipeline"
   ]
  },
  {
   "cell_type": "markdown",
   "id": "ff6a745e",
   "metadata": {},
   "source": [
    "## Install Dependencies"
   ]
  },
  {
   "cell_type": "code",
   "execution_count": 1,
   "id": "f5e2103a",
   "metadata": {},
   "outputs": [
    {
     "name": "stdout",
     "output_type": "stream",
     "text": [
      "Looking in indexes: https://pypi.org/simple, https://pypi.ngc.nvidia.com\n",
      "Collecting monai-deploy-app-sdk\n",
      "  Downloading monai_deploy_app_sdk-0.4.0-py3-none-any.whl (162 kB)\n",
      "\u001b[K     |████████████████████████████████| 162 kB 247 kB/s eta 0:00:01\n",
      "\u001b[?25hRequirement already satisfied: networkx>=2.4 in /opt/conda/lib/python3.8/site-packages (from monai-deploy-app-sdk) (2.6.3)\n",
      "Collecting typeguard>=2.12.1\n",
      "  Downloading typeguard-2.13.3-py3-none-any.whl (17 kB)\n",
      "Requirement already satisfied: numpy>=1.21.2 in /opt/conda/lib/python3.8/site-packages (from monai-deploy-app-sdk) (1.22.4)\n",
      "Requirement already satisfied: colorama>=0.4.1 in /opt/conda/lib/python3.8/site-packages (from monai-deploy-app-sdk) (0.4.4)\n",
      "Installing collected packages: typeguard, monai-deploy-app-sdk\n",
      "Successfully installed monai-deploy-app-sdk-0.4.0 typeguard-2.13.3\n",
      "\u001b[33mWARNING: Running pip as the 'root' user can result in broken permissions and conflicting behaviour with the system package manager. It is recommended to use a virtual environment instead: https://pip.pypa.io/warnings/venv\u001b[0m\n"
     ]
    }
   ],
   "source": [
    "!pip install --upgrade monai-deploy-app-sdk"
   ]
  },
  {
   "cell_type": "markdown",
   "id": "1136c771",
   "metadata": {},
   "source": [
    "# Import Dependencies\n",
    "Here, we need to import monai deploy classes, as well as the transforms that we used from MONAI."
   ]
  },
  {
   "cell_type": "code",
   "execution_count": 1,
   "id": "7bc5b8ae",
   "metadata": {},
   "outputs": [
    {
     "name": "stderr",
     "output_type": "stream",
     "text": [
      "/opt/conda/lib/python3.8/site-packages/tqdm/auto.py:22: TqdmWarning: IProgress not found. Please update jupyter and ipywidgets. See https://ipywidgets.readthedocs.io/en/stable/user_install.html\n",
      "  from .autonotebook import tqdm as notebook_tqdm\n"
     ]
    }
   ],
   "source": [
    "import monai.deploy.core as md  # 'md' stands for MONAI Deploy (or can use 'core' instead)\n",
    "from monai.deploy.core import (\n",
    "    Application,\n",
    "    DataPath,\n",
    "    ExecutionContext,\n",
    "    InputContext,\n",
    "    IOType,\n",
    "    Operator,\n",
    "    OutputContext,\n",
    ")\n",
    "from monai.transforms import (\n",
    "    AddChannel,\n",
    "    Compose,\n",
    "    Lambda,\n",
    "    LoadImage,\n",
    "    Resize,\n",
    "    ScaleIntensity,\n",
    ")\n",
    "\n",
    "PNEUMONIA_CLASSES = [\"NORMAL\", \"PNEUMONIA\"]"
   ]
  },
  {
   "cell_type": "markdown",
   "id": "f0406d3e",
   "metadata": {},
   "source": [
    "# Creating our operator\n",
    "Here we define our operator as follows:\n",
    "1. First we define an input of type DataPath from DISK.\n",
    "2. Next, we define an output of type DataPath from DISK.\n",
    "3. Third, we ensure that monai is a dependency that needs to be installed.\n",
    "4. Then, we define the class, inheriting the Operator class from MONAI Deploy\n",
    "5. Then we add a property called transform which will do the validation style transforms that we defined in the training module.\n",
    "6. We then write the compute function, which should consist of getting the path from the input context, using transform on the path, converting the output to an output tensor that is then put on the GPU, and lastly the model is used to perform a forward pass with the image tensor.\n",
    "7. Lastly, the results are postprocessed into the classes using argmax and the results are saved to output.json."
   ]
  },
  {
   "cell_type": "code",
   "execution_count": 2,
   "id": "240cc824",
   "metadata": {},
   "outputs": [],
   "source": [
    "@md.input(\"image\", DataPath, IOType.DISK)\n",
    "@md.output(\"output\", DataPath, IOType.DISK)\n",
    "@md.env(pip_packages=[\"monai\"])\n",
    "class PneumoniaClassifierOperator(Operator):\n",
    "    \"\"\"Classifies the given image and returns the class name.\"\"\"\n",
    "\n",
    "    @property\n",
    "    def transform(self):\n",
    "        val_transforms = Compose(\n",
    "            [\n",
    "                LoadImage(image_only=True),\n",
    "                Lambda(func=lambda x: np.mean(x, axis=2) if len(x.shape) >= 3 else x),\n",
    "                AddChannel(),\n",
    "                ScaleIntensity(),\n",
    "                Resize(spatial_size=(224,224)),\n",
    "            ]\n",
    "        )\n",
    "        return val_transforms\n",
    "\n",
    "    def compute(self, op_input: InputContext, op_output: OutputContext, context: ExecutionContext):\n",
    "        import json\n",
    "\n",
    "        import torch\n",
    "        \n",
    "        input_path = op_input.get().path\n",
    "        if input_path.is_dir():\n",
    "            input_path = next(input_path.glob(\"*.*\"))  # take the first file\n",
    "\n",
    "        image_tensor = self.transform(input_path)  # (1, 224, 224), torch.float64\n",
    "        image_tensor = image_tensor[None].float()  # (1, 1, 224, 224), torch.float32\n",
    "\n",
    "        device = torch.device(\"cuda\" if torch.cuda.is_available() else \"cpu\")\n",
    "        image_tensor = image_tensor.to(device)\n",
    "\n",
    "        model = context.models.get()  # get a TorchScriptModel object\n",
    "\n",
    "        with torch.no_grad():\n",
    "            outputs = model(image_tensor)\n",
    "\n",
    "        _, output_classes = outputs.max(dim=1)\n",
    "\n",
    "        result = PNEUMONIA_CLASSES[output_classes[0]]  # get the class name\n",
    "        print(result)\n",
    "\n",
    "        # Get output (folder) path and create the folder if not exists\n",
    "        output_folder = op_output.get().path\n",
    "        output_folder.mkdir(parents=True, exist_ok=True)\n",
    "\n",
    "        # Write result to \"output.json\"\n",
    "        output_path = output_folder / \"output.json\"\n",
    "        with open(output_path, \"w\") as fp:\n",
    "            json.dump(result, fp)"
   ]
  },
  {
   "cell_type": "markdown",
   "id": "8ef8f488",
   "metadata": {},
   "source": [
    "# Creating our application\n",
    "In this section, all the operators that are defined should be included. Here, we only used one operator, so we will use the add_operator function to add our operator into the application function. Notice here that you can also define the number of cpu, gpu and memory that are required."
   ]
  },
  {
   "cell_type": "code",
   "execution_count": 3,
   "id": "ea4b2ad2",
   "metadata": {},
   "outputs": [],
   "source": [
    "@md.resource(cpu=1, gpu=1, memory=\"1Gi\")\n",
    "class App(Application):\n",
    "    \"\"\"Application class for the Pneumonia classifier.\"\"\"\n",
    "\n",
    "    def compose(self):\n",
    "        classifier_op = PneumoniaClassifierOperator()\n",
    "\n",
    "        self.add_operator(classifier_op)"
   ]
  },
  {
   "cell_type": "markdown",
   "id": "f81bd502",
   "metadata": {},
   "source": [
    "# Testing our application\n",
    "In order to test our application, we will point \"test_input_path\" to a jpeg file in our test folder."
   ]
  },
  {
   "cell_type": "code",
   "execution_count": 4,
   "id": "a34e05eb",
   "metadata": {},
   "outputs": [
    {
     "name": "stdout",
     "output_type": "stream",
     "text": [
      "Test input file path: ./chest_xray/test/NORMAL/IM-0001-0001.jpeg\n"
     ]
    }
   ],
   "source": [
    "test_input_path = \"./chest_xray/test/NORMAL/IM-0001-0001.jpeg\"\n",
    "print(f\"Test input file path: {test_input_path}\")"
   ]
  },
  {
   "cell_type": "markdown",
   "id": "5657cf1c",
   "metadata": {},
   "source": [
    "Next, we instantiate the App class, and then perform run."
   ]
  },
  {
   "cell_type": "code",
   "execution_count": 5,
   "id": "8f2b6006",
   "metadata": {},
   "outputs": [],
   "source": [
    "app = App()"
   ]
  },
  {
   "cell_type": "code",
   "execution_count": 6,
   "id": "c948a72d",
   "metadata": {},
   "outputs": [
    {
     "name": "stdout",
     "output_type": "stream",
     "text": [
      "\u001b[34mGoing to initiate execution of operator PneumoniaClassifierOperator\u001b[39m\n",
      "\u001b[32mExecuting operator PneumoniaClassifierOperator \u001b[33m(Process ID: 1635, Operator ID: dcaba50a-0430-424a-ac91-4459e29a7b8b)\u001b[39m\n",
      "NORMAL\n",
      "\u001b[34mDone performing execution of operator PneumoniaClassifierOperator\n",
      "\u001b[39m\n"
     ]
    }
   ],
   "source": [
    "app.run(input=test_input_path, output=\"output\", model=\"classifier.zip\")"
   ]
  },
  {
   "cell_type": "markdown",
   "id": "839c178e",
   "metadata": {},
   "source": [
    "Lastly, we can check that the results were indeed output into a json file."
   ]
  },
  {
   "cell_type": "code",
   "execution_count": 7,
   "id": "fcfc2fbf",
   "metadata": {},
   "outputs": [
    {
     "name": "stdout",
     "output_type": "stream",
     "text": [
      "\"NORMAL\""
     ]
    }
   ],
   "source": [
    "!cat output/output.json"
   ]
  },
  {
   "cell_type": "markdown",
   "id": "d2beab2b",
   "metadata": {},
   "source": [
    "# Wrapping it all up\n",
    "Next, we take cells 1, 2, and 3, and paste them into a file called pneumonia_classifier_monaideploy.py. This is done in the next cell.\n",
    "At the end, we add the `if __name__ == \"__main__\":` definition to make sure that the app is run if it's called on the python command line."
   ]
  },
  {
   "cell_type": "code",
   "execution_count": 8,
   "id": "195f3a1b",
   "metadata": {},
   "outputs": [
    {
     "name": "stdout",
     "output_type": "stream",
     "text": [
      "Overwriting pneumonia_classifier_monaideploy.py\n"
     ]
    }
   ],
   "source": [
    "%%writefile pneumonia_classifier_monaideploy.py\n",
    "\n",
    "# Cell [1]\n",
    "import monai.deploy.core as md  # 'md' stands for MONAI Deploy (or can use 'core' instead)\n",
    "from monai.deploy.core import (\n",
    "    Application,\n",
    "    DataPath,\n",
    "    ExecutionContext,\n",
    "    Image,\n",
    "    InputContext,\n",
    "    IOType,\n",
    "    Operator,\n",
    "    OutputContext,\n",
    ")\n",
    "from monai.transforms import (\n",
    "    AddChannel,\n",
    "    Compose,\n",
    "    Lambda,\n",
    "    LoadImage,\n",
    "    Resize,\n",
    "    ScaleIntensity,\n",
    ")\n",
    "\n",
    "PNEUMONIA_CLASSES = [\"NORMAL\", \"PNEUMONIA\"]\n",
    "\n",
    "# Cell [2]\n",
    "@md.input(\"image\", DataPath, IOType.DISK)\n",
    "@md.output(\"output\", DataPath, IOType.DISK)\n",
    "@md.env(pip_packages=[\"monai\"])\n",
    "class PneumoniaClassifierOperator(Operator):\n",
    "    \"\"\"Classifies the given image and returns the class name.\"\"\"\n",
    "\n",
    "    @property\n",
    "    def transform(self):\n",
    "        val_transforms = Compose(\n",
    "            [\n",
    "                LoadImage(image_only=True),\n",
    "                Lambda(func=lambda x: np.mean(x, axis=2) if len(x.shape) >= 3 else x),\n",
    "                AddChannel(),\n",
    "                ScaleIntensity(),\n",
    "                Resize(spatial_size=(224,224)),\n",
    "            ]\n",
    "        )\n",
    "        return val_transforms\n",
    "\n",
    "    def compute(self, op_input: InputContext, op_output: OutputContext, context: ExecutionContext):\n",
    "        import json\n",
    "\n",
    "        import torch\n",
    "        \n",
    "        input_path = op_input.get().path\n",
    "        if input_path.is_dir():\n",
    "            input_path = next(input_path.glob(\"*.*\"))  # take the first file\n",
    "\n",
    "        image_tensor = self.transform(input_path)  # (1, 224, 224), torch.float64\n",
    "        image_tensor = image_tensor[None].float()  # (1, 1, 224, 224), torch.float32\n",
    "\n",
    "        device = torch.device(\"cuda\" if torch.cuda.is_available() else \"cpu\")\n",
    "        image_tensor = image_tensor.to(device)\n",
    "\n",
    "        model = context.models.get()  # get a TorchScriptModel object\n",
    "\n",
    "        with torch.no_grad():\n",
    "            outputs = model(image_tensor)\n",
    "\n",
    "        _, output_classes = outputs.max(dim=1)\n",
    "\n",
    "        result = PNEUMONIA_CLASSES[output_classes[0]]  # get the class name\n",
    "        print(result)\n",
    "\n",
    "        # Get output (folder) path and create the folder if not exists\n",
    "        output_folder = op_output.get().path\n",
    "        output_folder.mkdir(parents=True, exist_ok=True)\n",
    "\n",
    "        # Write result to \"output.json\"\n",
    "        output_path = output_folder / \"output.json\"\n",
    "        with open(output_path, \"w\") as fp:\n",
    "            json.dump(result, fp)\n",
    "            \n",
    "# Cell [3]\n",
    "@md.resource(cpu=1, gpu=1, memory=\"1Gi\")\n",
    "class App(Application):\n",
    "    \"\"\"Application class for the Pneumonia classifier.\"\"\"\n",
    "\n",
    "    def compose(self):\n",
    "        classifier_op = PneumoniaClassifierOperator()\n",
    "\n",
    "        self.add_operator(classifier_op)\n",
    "\n",
    "# Finally\n",
    "if __name__ == \"__main__\":\n",
    "    App(do_run=True)"
   ]
  },
  {
   "cell_type": "markdown",
   "id": "8ccf16be",
   "metadata": {},
   "source": [
    "# Use PYTHON to run the code directly\n",
    "Now that the code is written, we can then run the code using python directly as a test."
   ]
  },
  {
   "cell_type": "code",
   "execution_count": 9,
   "id": "da8380b7",
   "metadata": {},
   "outputs": [
    {
     "name": "stdout",
     "output_type": "stream",
     "text": [
      "\u001b[34mGoing to initiate execution of operator PneumoniaClassifierOperator\u001b[39m\n",
      "\u001b[32mExecuting operator PneumoniaClassifierOperator \u001b[33m(Process ID: 1681, Operator ID: b1a8601f-ff94-43ca-84f6-6be36a9a7f75)\u001b[39m\n",
      "NORMAL\n",
      "\u001b[34mDone performing execution of operator PneumoniaClassifierOperator\n",
      "\u001b[39m\n"
     ]
    }
   ],
   "source": [
    "!python pneumonia_classifier_monaideploy.py -i {test_input_path} -o output -m classifier.zip"
   ]
  },
  {
   "cell_type": "markdown",
   "id": "b50ba8c2",
   "metadata": {},
   "source": [
    "# Use MONAI Deploy Runner to test the app\n",
    "We can also test the execution using the included MONAI deploy runner."
   ]
  },
  {
   "cell_type": "code",
   "execution_count": 10,
   "id": "ff4d4435",
   "metadata": {},
   "outputs": [
    {
     "name": "stdout",
     "output_type": "stream",
     "text": [
      "\u001b[34mGoing to initiate execution of operator PneumoniaClassifierOperator\u001b[39m\n",
      "\u001b[32mExecuting operator PneumoniaClassifierOperator \u001b[33m(Process ID: 1712, Operator ID: 7e6f5f07-80ab-450e-a954-f76b4c750174)\u001b[39m\n",
      "NORMAL\n",
      "\u001b[34mDone performing execution of operator PneumoniaClassifierOperator\n",
      "\u001b[39m\n"
     ]
    }
   ],
   "source": [
    "!monai-deploy exec pneumonia_classifier_monaideploy.py -i {test_input_path} -o output -m classifier.zip"
   ]
  },
  {
   "cell_type": "markdown",
   "id": "4e1e610b",
   "metadata": {},
   "source": [
    "# Package App for Docker\n",
    "Lastly, this step will call docker to package the application as a docker image which can then be run anywhere that docker images are supported."
   ]
  },
  {
   "cell_type": "code",
   "execution_count": null,
   "id": "4b6e195e",
   "metadata": {},
   "outputs": [],
   "source": [
    "!monai-deploy package pneumonia_classifier_monaideploy.py --tag pneumonia_app:latest --model classifier.zip  # -l DEBUG"
   ]
  },
  {
   "cell_type": "code",
   "execution_count": null,
   "id": "4dd6f91c",
   "metadata": {},
   "outputs": [],
   "source": [
    "!docker images | grep pneumonia_app"
   ]
  }
 ],
 "metadata": {
  "kernelspec": {
   "display_name": "Python 3 (ipykernel)",
   "language": "python",
   "name": "python3"
  },
  "language_info": {
   "codemirror_mode": {
    "name": "ipython",
    "version": 3
   },
   "file_extension": ".py",
   "mimetype": "text/x-python",
   "name": "python",
   "nbconvert_exporter": "python",
   "pygments_lexer": "ipython3",
   "version": "3.8.13"
  }
 },
 "nbformat": 4,
 "nbformat_minor": 5
}
